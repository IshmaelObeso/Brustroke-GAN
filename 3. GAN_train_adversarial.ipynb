{
 "cells": [
  {
   "cell_type": "code",
   "execution_count": 1,
   "metadata": {},
   "outputs": [],
   "source": [
    "# imports\n",
    "import os\n",
    "import time\n",
    "import numpy as np\n",
    "import matplotlib.pyplot as plt\n",
    "\n",
    "import torch\n",
    "import torch.nn as nn\n",
    "import torch.nn.functional as F\n",
    "import torch.optim as optim\n",
    "import torchvision.transforms.functional as VF\n",
    "from torchvision import models, transforms\n",
    "from torch.utils.data import TensorDataset, DataLoader\n",
    "\n",
    "from fastai.vision.gan import basic_generator, gan_critic\n",
    "from fastai.torch_core import requires_grad, children\n",
    "from fastai.callbacks import hook_outputs\n",
    "\n",
    "from models import Generator"
   ]
  },
  {
   "cell_type": "code",
   "execution_count": 2,
   "metadata": {},
   "outputs": [],
   "source": [
    "#load data into memory\n",
    "data = np.load('brushstroke_data/' + 'episodes_42.npz')\n",
    "stroke_data = data['strokes']\n",
    "\n",
    "# define batch size\n",
    "batch_size = 256\n",
    "\n",
    "# define dataloaders and dataset used in training\n",
    "actions = data['actions']\n",
    "actions = torch.stack([torch.from_numpy(action).float() for action in actions])\n",
    "strokes = torch.stack([torch.from_numpy(stroke).permute(2,0,1) for stroke in stroke_data])\n",
    "\n",
    "# use generic pytorch datasets and dataloader classes\n",
    "dataset = TensorDataset(strokes, actions)\n",
    "dataloader = DataLoader(dataset, batch_size = 256, shuffle=False)\n",
    "\n",
    "# define stroke transformer we will use during training\n",
    "strokes_tfms = transforms.Compose([transforms.Lambda(lambda x: x.float()),\n",
    "                                   transforms.Lambda(lambda x: x.div(255))\n",
    "                                  ])"
   ]
  },
  {
   "cell_type": "code",
   "execution_count": 3,
   "metadata": {},
   "outputs": [
    {
     "name": "stdout",
     "output_type": "stream",
     "text": [
      "brushstroke_gan_non_adversarial_generator_param.pth\r\n"
     ]
    }
   ],
   "source": [
    "# list saved generator models \n",
    "!ls generator_models"
   ]
  },
  {
   "cell_type": "code",
   "execution_count": 4,
   "metadata": {},
   "outputs": [
    {
     "data": {
      "text/plain": [
       "Generator(\n",
       "  (fc): Linear(in_features=12, out_features=4096, bias=True)\n",
       "  (generator): Sequential(\n",
       "    (0): Sequential(\n",
       "      (0): ConvTranspose2d(4096, 512, kernel_size=(4, 4), stride=(1, 1), bias=False)\n",
       "      (1): ReLU(inplace)\n",
       "      (2): BatchNorm2d(512, eps=1e-05, momentum=0.1, affine=True, track_running_stats=True)\n",
       "    )\n",
       "    (1): Sequential(\n",
       "      (0): ConvTranspose2d(512, 256, kernel_size=(4, 4), stride=(2, 2), padding=(1, 1), bias=False)\n",
       "      (1): ReLU(inplace)\n",
       "      (2): BatchNorm2d(256, eps=1e-05, momentum=0.1, affine=True, track_running_stats=True)\n",
       "    )\n",
       "    (2): Sequential(\n",
       "      (0): ConvTranspose2d(256, 128, kernel_size=(4, 4), stride=(2, 2), padding=(1, 1), bias=False)\n",
       "      (1): ReLU(inplace)\n",
       "      (2): BatchNorm2d(128, eps=1e-05, momentum=0.1, affine=True, track_running_stats=True)\n",
       "    )\n",
       "    (3): Sequential(\n",
       "      (0): ConvTranspose2d(128, 64, kernel_size=(4, 4), stride=(2, 2), padding=(1, 1), bias=False)\n",
       "      (1): ReLU(inplace)\n",
       "      (2): BatchNorm2d(64, eps=1e-05, momentum=0.1, affine=True, track_running_stats=True)\n",
       "    )\n",
       "    (4): Sequential(\n",
       "      (0): ConvTranspose2d(64, 64, kernel_size=(3, 3), stride=(1, 1), padding=(1, 1), bias=False)\n",
       "      (1): ReLU(inplace)\n",
       "      (2): BatchNorm2d(64, eps=1e-05, momentum=0.1, affine=True, track_running_stats=True)\n",
       "    )\n",
       "    (5): ConvTranspose2d(64, 3, kernel_size=(4, 4), stride=(2, 2), padding=(1, 1), bias=False)\n",
       "    (6): Tanh()\n",
       "  )\n",
       ")"
      ]
     },
     "execution_count": 4,
     "metadata": {},
     "output_type": "execute_result"
    }
   ],
   "source": [
    "condition_dim = 12\n",
    "image_size = 64\n",
    "fc_dim = int(image_size * image_size)\n",
    "channels = 3\n",
    "n_extra_layers = 1\n",
    "\n",
    "# instaniate generator\n",
    "generator = Generator(condition_dim=condition_dim,\n",
    "                     fc_dim=fc_dim,\n",
    "                     in_size=image_size,\n",
    "                     n_channels=channels,\n",
    "                     n_extra_layers=n_extra_layers)\n",
    "\n",
    "# load saved generator parameters\n",
    "root = \"generator_models/\"\n",
    "generator.load_state_dict(torch.load(root + \"brushstroke_gan_non_adversarial_generator_param.pth\"))\n",
    "\n",
    "# visualize generator layers\n",
    "generator"
   ]
  },
  {
   "cell_type": "code",
   "execution_count": 5,
   "metadata": {},
   "outputs": [
    {
     "name": "stdout",
     "output_type": "stream",
     "text": [
      "brushstroke_gan_non_adversarial_critic_param.pth\r\n"
     ]
    }
   ],
   "source": [
    "# list saved critic models\n",
    "!ls critic_models"
   ]
  },
  {
   "cell_type": "code",
   "execution_count": 6,
   "metadata": {},
   "outputs": [
    {
     "data": {
      "text/plain": [
       "Sequential(\n",
       "  (0): Sequential(\n",
       "    (0): Conv2d(3, 64, kernel_size=(4, 4), stride=(2, 2), padding=(1, 1))\n",
       "    (1): LeakyReLU(negative_slope=0.2, inplace)\n",
       "  )\n",
       "  (1): Dropout2d(p=0.075)\n",
       "  (2): SequentialEx(\n",
       "    (layers): ModuleList(\n",
       "      (0): Sequential(\n",
       "        (0): Conv2d(64, 64, kernel_size=(3, 3), stride=(1, 1), padding=(1, 1))\n",
       "        (1): LeakyReLU(negative_slope=0.2, inplace)\n",
       "      )\n",
       "      (1): Sequential(\n",
       "        (0): Conv2d(64, 64, kernel_size=(3, 3), stride=(1, 1), padding=(1, 1))\n",
       "        (1): LeakyReLU(negative_slope=0.2, inplace)\n",
       "      )\n",
       "      (2): MergeLayer()\n",
       "    )\n",
       "  )\n",
       "  (3): Dropout2d(p=0.15)\n",
       "  (4): Sequential(\n",
       "    (0): Conv2d(128, 256, kernel_size=(4, 4), stride=(2, 2), padding=(1, 1))\n",
       "    (1): LeakyReLU(negative_slope=0.2, inplace)\n",
       "    (2): SelfAttention(\n",
       "      (query): Conv1d(256, 32, kernel_size=(1,), stride=(1,), bias=False)\n",
       "      (key): Conv1d(256, 32, kernel_size=(1,), stride=(1,), bias=False)\n",
       "      (value): Conv1d(256, 256, kernel_size=(1,), stride=(1,), bias=False)\n",
       "    )\n",
       "  )\n",
       "  (5): Dropout2d(p=0.15)\n",
       "  (6): Sequential(\n",
       "    (0): Conv2d(256, 512, kernel_size=(4, 4), stride=(2, 2), padding=(1, 1))\n",
       "    (1): LeakyReLU(negative_slope=0.2, inplace)\n",
       "  )\n",
       "  (7): Dropout2d(p=0.15)\n",
       "  (8): Sequential(\n",
       "    (0): Conv2d(512, 1024, kernel_size=(4, 4), stride=(2, 2), padding=(1, 1))\n",
       "    (1): LeakyReLU(negative_slope=0.2, inplace)\n",
       "  )\n",
       "  (9): Sequential(\n",
       "    (0): Conv2d(1024, 1, kernel_size=(4, 4), stride=(1, 1), bias=False)\n",
       "  )\n",
       "  (10): Flatten()\n",
       ")"
      ]
     },
     "execution_count": 6,
     "metadata": {},
     "output_type": "execute_result"
    }
   ],
   "source": [
    "# instantiate critic\n",
    "critic = gan_critic(nf=64)\n",
    "\n",
    "# load saved critic parameters\n",
    "root = \"critic_models/\"\n",
    "critic.load_state_dict(torch.load(root + \"brushstroke_gan_non_adversarial_critic_param.pth\"))\n",
    "\n",
    "# visualize critic layers\n",
    "critic"
   ]
  },
  {
   "cell_type": "code",
   "execution_count": 7,
   "metadata": {},
   "outputs": [],
   "source": [
    "# define learning rate \n",
    "learning_rate = .0004\n",
    "\n",
    "# define critic and generator optimizers\n",
    "generator_optimizer = optim.Adam(generator.parameters(), lr=learning_rate, betas=(0.5, 0.9))\n",
    "critic_optimizer = optim.Adam(critic.parameters(), lr=learning_rate, betas=(0.5, 0.9))\n",
    "\n",
    "\n",
    "# define loss functions\n",
    "critic_loss = F.binary_cross_entropy\n",
    "base_loss = F.mse_loss"
   ]
  },
  {
   "cell_type": "code",
   "execution_count": 8,
   "metadata": {},
   "outputs": [],
   "source": [
    "# define save directories for adversarial generator\n",
    "root = 'adversarial_models/'\n",
    "gen_model = 'brushstroke_gan_final_adversarial_generator_param.pth'\n",
    "critic_model = 'brushstroke_gan_final_adversarial_critic_param.pth'\n",
    "\n",
    "if not os.path.isdir(root):\n",
    "    os.mkdir(root)"
   ]
  },
  {
   "cell_type": "code",
   "execution_count": 9,
   "metadata": {},
   "outputs": [
    {
     "name": "stdout",
     "output_type": "stream",
     "text": [
      "Device : cuda\n",
      "Starting Adversarial Generator Training\n",
      "epoch 1/100 | 1/391 complete!\n",
      "critic loss: 1.625986933708191\n",
      "generator loss: 0.023250222206115723\n",
      "true\n",
      "critic pred: 0.9505690932273865 real (true=1)\n"
     ]
    },
    {
     "data": {
      "image/png": "[encoded data removed]",
      "text/plain": [
       "<PIL.Image.Image image mode=RGB size=64x64 at 0x7F0C63FA7CF8>"
      ]
     },
     "metadata": {},
     "output_type": "display_data"
    },
    {
     "name": "stdout",
     "output_type": "stream",
     "text": [
      "---\n",
      "generated\n",
      "critic pred: 0.9591482281684875 generated (true=0)\n"
     ]
    },
    {
     "data": {
      "image/png": "[encoded data removed]",
      "text/plain": [
       "<PIL.Image.Image image mode=RGB size=64x64 at 0x7F0C63F6CCC0>"
      ]
     },
     "metadata": {},
     "output_type": "display_data"
    },
    {
     "name": "stdout",
     "output_type": "stream",
     "text": [
      "---\n",
      "epoch 1/100 | 51/391 complete!\n",
      "critic loss: 1.4617109298706055\n",
      "generator loss: 0.032775264233350754\n",
      "true\n",
      "critic pred: 0.9112410545349121 real (true=1)\n"
     ]
    },
    {
     "data": {
      "image/png": "[encoded data removed]",
      "text/plain": [
       "<PIL.Image.Image image mode=RGB size=64x64 at 0x7F0C63FA7CF8>"
      ]
     },
     "metadata": {},
     "output_type": "display_data"
    },
    {
     "name": "stdout",
     "output_type": "stream",
     "text": [
      "---\n",
      "generated\n",
      "critic pred: 0.9147231578826904 generated (true=0)\n"
     ]
    },
    {
     "data": {
      "image/png": "[encoded data removed]",
      "text/plain": [
       "<PIL.Image.Image image mode=RGB size=64x64 at 0x7F0C63FA7D68>"
      ]
     },
     "metadata": {},
     "output_type": "display_data"
    },
    {
     "name": "stdout",
     "output_type": "stream",
     "text": [
      "---\n",
      "epoch 1/100 | 101/391 complete!\n",
      "critic loss: 1.3186736106872559\n",
      "generator loss: 0.04747555032372475\n",
      "true\n",
      "critic pred: 0.8587127923965454 real (true=1)\n"
     ]
    },
    {
     "data": {
      "image/png": "[encoded data removed]",
      "text/plain": [
       "<PIL.Image.Image image mode=RGB size=64x64 at 0x7F0C63FA7CF8>"
      ]
     },
     "metadata": {},
     "output_type": "display_data"
    },
    {
     "name": "stdout",
     "output_type": "stream",
     "text": [
      "---\n",
      "generated\n",
      "critic pred: 0.9251886010169983 generated (true=0)\n"
     ]
    },
    {
     "data": {
      "image/png": "[encoded data removed]",
      "text/plain": [
       "<PIL.Image.Image image mode=RGB size=64x64 at 0x7F0C63FA7D30>"
      ]
     },
     "metadata": {},
     "output_type": "display_data"
    },
    {
     "name": "stdout",
     "output_type": "stream",
     "text": [
      "---\n",
      "epoch 1/100 | 151/391 complete!\n",
      "critic loss: 1.1931138038635254\n",
      "generator loss: 0.06976191699504852\n",
      "true\n",
      "critic pred: 0.6906127333641052 real (true=1)\n"
     ]
    },
    {
     "data": {
      "image/png": "[encoded data removed]",
      "text/plain": [
       "<PIL.Image.Image image mode=RGB size=64x64 at 0x7F0C63FA7CF8>"
      ]
     },
     "metadata": {},
     "output_type": "display_data"
    },
    {
     "name": "stdout",
     "output_type": "stream",
     "text": [
      "---\n",
      "generated\n",
      "critic pred: 0.6836028099060059 generated (true=0)\n"
     ]
    },
    {
     "data": {
      "image/png": "[encoded data removed]",
      "text/plain": [
       "<PIL.Image.Image image mode=RGB size=64x64 at 0x7F0C63FA7D68>"
      ]
     },
     "metadata": {},
     "output_type": "display_data"
    },
    {
     "name": "stdout",
     "output_type": "stream",
     "text": [
      "---\n",
      "epoch 1/100 | 201/391 complete!\n",
      "critic loss: 1.0903561115264893\n",
      "generator loss: 0.10158830881118774\n",
      "true\n",
      "critic pred: 0.7329411506652832 real (true=1)\n"
     ]
    },
    {
     "data": {
      "image/png": "[encoded data removed]",
      "text/plain": [
       "<PIL.Image.Image image mode=RGB size=64x64 at 0x7F0C63FA7CF8>"
      ]
     },
     "metadata": {},
     "output_type": "display_data"
    },
    {
     "name": "stdout",
     "output_type": "stream",
     "text": [
      "---\n",
      "generated\n",
      "critic pred: 0.5737280249595642 generated (true=0)\n"
     ]
    },
    {
     "data": {
      "image/png": "[encoded data removed]",
      "text/plain": [
       "<PIL.Image.Image image mode=RGB size=64x64 at 0x7F0C63FA7D30>"
      ]
     },
     "metadata": {},
     "output_type": "display_data"
    },
    {
     "name": "stdout",
     "output_type": "stream",
     "text": [
      "---\n",
      "epoch 1/100 | 251/391 complete!\n",
      "critic loss: 1.0150246620178223\n",
      "generator loss: 0.1416267305612564\n",
      "true\n",
      "critic pred: 0.5481759309768677 real (true=1)\n"
     ]
    },
    {
     "data": {
      "image/png": "[encoded data removed]",
      "text/plain": [
       "<PIL.Image.Image image mode=RGB size=64x64 at 0x7F0C63FA7CF8>"
      ]
     },
     "metadata": {},
     "output_type": "display_data"
    },
    {
     "name": "stdout",
     "output_type": "stream",
     "text": [
      "---\n",
      "generated\n",
      "critic pred: 0.5105922222137451 generated (true=0)\n"
     ]
    },
    {
     "data": {
      "image/png": "[encoded data removed]",
      "text/plain": [
       "<PIL.Image.Image image mode=RGB size=64x64 at 0x7F0C63FA7D68>"
      ]
     },
     "metadata": {},
     "output_type": "display_data"
    },
    {
     "name": "stdout",
     "output_type": "stream",
     "text": [
      "---\n",
      "epoch 1/100 | 301/391 complete!\n",
      "critic loss: 0.9632027745246887\n",
      "generator loss: 0.17663277685642242\n",
      "true\n",
      "critic pred: 0.40646615624427795 real (true=1)\n"
     ]
    },
    {
     "data": {
      "image/png": "[encoded data removed]",
      "text/plain": [
       "<PIL.Image.Image image mode=RGB size=64x64 at 0x7F0C63FA7CF8>"
      ]
     },
     "metadata": {},
     "output_type": "display_data"
    },
    {
     "name": "stdout",
     "output_type": "stream",
     "text": [
      "---\n",
      "generated\n",
      "critic pred: 0.5266535878181458 generated (true=0)\n"
     ]
    },
    {
     "data": {
      "image/png": "[encoded data removed]",
      "text/plain": [
       "<PIL.Image.Image image mode=RGB size=64x64 at 0x7F0C63FA7D30>"
      ]
     },
     "metadata": {},
     "output_type": "display_data"
    },
    {
     "name": "stdout",
     "output_type": "stream",
     "text": [
      "---\n",
      "epoch 1/100 | 351/391 complete!\n",
      "critic loss: 0.9261621832847595\n",
      "generator loss: 0.2015456259250641\n",
      "true\n",
      "critic pred: 0.4806412160396576 real (true=1)\n"
     ]
    },
    {
     "data": {
      "image/png": "[encoded data removed]",
      "text/plain": [
       "<PIL.Image.Image image mode=RGB size=64x64 at 0x7F0C63FA7CF8>"
      ]
     },
     "metadata": {},
     "output_type": "display_data"
    },
    {
     "name": "stdout",
     "output_type": "stream",
     "text": [
      "---\n",
      "generated\n",
      "critic pred: 0.4819265305995941 generated (true=0)\n"
     ]
    },
    {
     "data": {
      "image/png": "[encoded data removed]",
      "text/plain": [
       "<PIL.Image.Image image mode=RGB size=64x64 at 0x7F0C63FA7D68>"
      ]
     },
     "metadata": {},
     "output_type": "display_data"
    },
    {
     "name": "stdout",
     "output_type": "stream",
     "text": [
      "---\n",
      "epoch 2/100 | 1/391 complete!\n",
      "critic loss: 0.9028542041778564\n",
      "generator loss: 0.2172786295413971\n",
      "true\n",
      "critic pred: 0.40470898151397705 real (true=1)\n"
     ]
    },
    {
     "data": {
      "image/png": "[encoded data removed]",
      "text/plain": [
       "<PIL.Image.Image image mode=RGB size=64x64 at 0x7F0C63FA7CF8>"
      ]
     },
     "metadata": {},
     "output_type": "display_data"
    },
    {
     "name": "stdout",
     "output_type": "stream",
     "text": [
      "---\n",
      "generated\n",
      "critic pred: 0.3342078626155853 generated (true=0)\n"
     ]
    },
    {
     "data": {
      "image/png": "[encoded data removed]",
      "text/plain": [
       "<PIL.Image.Image image mode=RGB size=64x64 at 0x7F0C63FA7D30>"
      ]
     },
     "metadata": {},
     "output_type": "display_data"
    },
    {
     "name": "stdout",
     "output_type": "stream",
     "text": [
      "---\n",
      "epoch 2/100 | 51/391 complete!\n",
      "critic loss: 0.8800738453865051\n",
      "generator loss: 0.23260021209716797\n",
      "true\n",
      "critic pred: 0.47657299041748047 real (true=1)\n"
     ]
    },
    {
     "data": {
      "image/png": "[encoded data removed]",
      "text/plain": [
       "<PIL.Image.Image image mode=RGB size=64x64 at 0x7F0C63FA7CF8>"
      ]
     },
     "metadata": {},
     "output_type": "display_data"
    },
    {
     "name": "stdout",
     "output_type": "stream",
     "text": [
      "---\n",
      "generated\n",
      "critic pred: 0.5519482493400574 generated (true=0)\n"
     ]
    },
    {
     "data": {
      "image/png": "[encoded data removed]",
      "text/plain": [
       "<PIL.Image.Image image mode=RGB size=64x64 at 0x7F0C63FA7D68>"
      ]
     },
     "metadata": {},
     "output_type": "display_data"
    },
    {
     "name": "stdout",
     "output_type": "stream",
     "text": [
      "---\n",
      "epoch 2/100 | 101/391 complete!\n",
      "critic loss: 0.8620889782905579\n",
      "generator loss: 0.24473533034324646\n",
      "true\n",
      "critic pred: 0.5702869296073914 real (true=1)\n"
     ]
    },
    {
     "data": {
      "image/png": "[encoded data removed]",
      "text/plain": [
       "<PIL.Image.Image image mode=RGB size=64x64 at 0x7F0C63FA7CF8>"
      ]
     },
     "metadata": {},
     "output_type": "display_data"
    },
    {
     "name": "stdout",
     "output_type": "stream",
     "text": [
      "---\n",
      "generated\n",
      "critic pred: 0.569871187210083 generated (true=0)\n"
     ]
    },
    {
     "data": {
      "image/png": "[encoded data removed]",
      "text/plain": [
       "<PIL.Image.Image image mode=RGB size=64x64 at 0x7F0C63FA7D30>"
      ]
     },
     "metadata": {},
     "output_type": "display_data"
    },
    {
     "name": "stdout",
     "output_type": "stream",
     "text": [
      "---\n",
      "epoch 2/100 | 151/391 complete!\n",
      "critic loss: 0.8474147319793701\n",
      "generator loss: 0.2548447251319885\n",
      "true\n",
      "critic pred: 0.48847559094429016 real (true=1)\n"
     ]
    },
    {
     "data": {
      "image/png": "[encoded data removed]",
      "text/plain": [
       "<PIL.Image.Image image mode=RGB size=64x64 at 0x7F0C63FA7CF8>"
      ]
     },
     "metadata": {},
     "output_type": "display_data"
    },
    {
     "name": "stdout",
     "output_type": "stream",
     "text": [
      "---\n",
      "generated\n",
      "critic pred: 0.5103169083595276 generated (true=0)\n"
     ]
    },
    {
     "data": {
      "image/png": "[encoded data removed]",
      "text/plain": [
       "<PIL.Image.Image image mode=RGB size=64x64 at 0x7F0C63FA7D68>"
      ]
     },
     "metadata": {},
     "output_type": "display_data"
    },
    {
     "name": "stdout",
     "output_type": "stream",
     "text": [
      "---\n",
      "epoch 2/100 | 201/391 complete!\n",
      "critic loss: 0.8351537585258484\n",
      "generator loss: 0.26303112506866455\n",
      "true\n",
      "critic pred: 0.5370173454284668 real (true=1)\n"
     ]
    },
    {
     "data": {
      "image/png": "[encoded data removed]",
      "text/plain": [
       "<PIL.Image.Image image mode=RGB size=64x64 at 0x7F0C63FA7CF8>"
      ]
     },
     "metadata": {},
     "output_type": "display_data"
    },
    {
     "name": "stdout",
     "output_type": "stream",
     "text": [
      "---\n",
      "generated\n",
      "critic pred: 0.5116645097732544 generated (true=0)\n"
     ]
    },
    {
     "data": {
      "image/png": "[encoded data removed]",
      "text/plain": [
       "<PIL.Image.Image image mode=RGB size=64x64 at 0x7F0C63FA7D30>"
      ]
     },
     "metadata": {},
     "output_type": "display_data"
    },
    {
     "name": "stdout",
     "output_type": "stream",
     "text": [
      "---\n",
      "epoch 2/100 | 251/391 complete!\n",
      "critic loss: 0.8248374462127686\n",
      "generator loss: 0.27005884051322937\n",
      "true\n",
      "critic pred: 0.501774787902832 real (true=1)\n"
     ]
    },
    {
     "data": {
      "image/png": "[encoded data removed]",
      "text/plain": [
       "<PIL.Image.Image image mode=RGB size=64x64 at 0x7F0C63FA7CF8>"
      ]
     },
     "metadata": {},
     "output_type": "display_data"
    },
    {
     "name": "stdout",
     "output_type": "stream",
     "text": [
      "---\n",
      "generated\n",
      "critic pred: 0.5343034267425537 generated (true=0)\n"
     ]
    },
    {
     "data": {
      "image/png": "[encoded data removed]",
      "text/plain": [
       "<PIL.Image.Image image mode=RGB size=64x64 at 0x7F0C63FA7D68>"
      ]
     },
     "metadata": {},
     "output_type": "display_data"
    },
    {
     "name": "stdout",
     "output_type": "stream",
     "text": [
      "---\n",
      "epoch 2/100 | 301/391 complete!\n",
      "critic loss: 0.8161391615867615\n",
      "generator loss: 0.2760118842124939\n",
      "true\n",
      "critic pred: 0.441313236951828 real (true=1)\n"
     ]
    },
    {
     "data": {
      "image/png": "[encoded data removed]",
      "text/plain": [
       "<PIL.Image.Image image mode=RGB size=64x64 at 0x7F0C63FA7DA0>"
      ]
     },
     "metadata": {},
     "output_type": "display_data"
    },
    {
     "name": "stdout",
     "output_type": "stream",
     "text": [
      "---\n",
      "generated\n",
      "critic pred: 0.5566158294677734 generated (true=0)\n"
     ]
    },
    {
     "data": {
      "image/png": "[encoded data removed]",
      "text/plain": [
       "<PIL.Image.Image image mode=RGB size=64x64 at 0x7F0C63FA7D68>"
      ]
     },
     "metadata": {},
     "output_type": "display_data"
    },
    {
     "name": "stdout",
     "output_type": "stream",
     "text": [
      "---\n",
      "epoch 2/100 | 351/391 complete!\n",
      "critic loss: 0.8086071014404297\n",
      "generator loss: 0.2811097502708435\n",
      "true\n",
      "critic pred: 0.4938797056674957 real (true=1)\n"
     ]
    },
    {
     "data": {
      "image/png": "[encoded data removed]",
      "text/plain": [
       "<PIL.Image.Image image mode=RGB size=64x64 at 0x7F0C63FA7D30>"
      ]
     },
     "metadata": {},
     "output_type": "display_data"
    },
    {
     "name": "stdout",
     "output_type": "stream",
     "text": [
      "---\n",
      "generated\n",
      "critic pred: 0.4466811716556549 generated (true=0)\n"
     ]
    },
    {
     "data": {
      "image/png": "[encoded data removed]",
      "text/plain": [
       "<PIL.Image.Image image mode=RGB size=64x64 at 0x7F0C63FA7CF8>"
      ]
     },
     "metadata": {},
     "output_type": "display_data"
    },
    {
     "name": "stdout",
     "output_type": "stream",
     "text": [
      "---\n",
      "epoch 3/100 | 1/391 complete!\n",
      "critic loss: 0.803104817867279\n",
      "generator loss: 0.28479960560798645\n",
      "true\n",
      "critic pred: 0.5204048752784729 real (true=1)\n"
     ]
    },
    {
     "data": {
      "image/png": "[encoded data removed]",
      "text/plain": [
       "<PIL.Image.Image image mode=RGB size=64x64 at 0x7F0C63FA7D30>"
      ]
     },
     "metadata": {},
     "output_type": "display_data"
    },
    {
     "name": "stdout",
     "output_type": "stream",
     "text": [
      "---\n",
      "generated\n",
      "critic pred: 0.4358326196670532 generated (true=0)\n"
     ]
    },
    {
     "data": {
      "image/png": "[encoded data removed]",
      "text/plain": [
       "<PIL.Image.Image image mode=RGB size=64x64 at 0x7F0C63FA7D68>"
      ]
     },
     "metadata": {},
     "output_type": "display_data"
    },
    {
     "name": "stdout",
     "output_type": "stream",
     "text": [
      "---\n",
      "epoch 3/100 | 51/391 complete!\n",
      "critic loss: 0.7970861792564392\n",
      "generator loss: 0.28890261054039\n",
      "true\n",
      "critic pred: 0.49781081080436707 real (true=1)\n"
     ]
    },
    {
     "data": {
      "image/png": "[encoded data removed]",
      "text/plain": [
       "<PIL.Image.Image image mode=RGB size=64x64 at 0x7F0C63FA7D30>"
      ]
     },
     "metadata": {},
     "output_type": "display_data"
    },
    {
     "name": "stdout",
     "output_type": "stream",
     "text": [
      "---\n",
      "generated\n",
      "critic pred: 0.6016347408294678 generated (true=0)\n"
     ]
    },
    {
     "data": {
      "image/png": "[encoded data removed]",
      "text/plain": [
       "<PIL.Image.Image image mode=RGB size=64x64 at 0x7F0C63FA7CF8>"
      ]
     },
     "metadata": {},
     "output_type": "display_data"
    },
    {
     "name": "stdout",
     "output_type": "stream",
     "text": [
      "---\n",
      "epoch 3/100 | 101/391 complete!\n",
      "critic loss: 0.7917929291725159\n",
      "generator loss: 0.292431503534317\n",
      "true\n",
      "critic pred: 0.5932541489601135 real (true=1)\n"
     ]
    },
    {
     "data": {
      "image/png": "[encoded data removed]",
      "text/plain": [
       "<PIL.Image.Image image mode=RGB size=64x64 at 0x7F0C63FA7D30>"
      ]
     },
     "metadata": {},
     "output_type": "display_data"
    },
    {
     "name": "stdout",
     "output_type": "stream",
     "text": [
      "---\n",
      "generated\n",
      "critic pred: 0.5070429444313049 generated (true=0)\n"
     ]
    },
    {
     "data": {
      "image/png": "[encoded data removed]",
      "text/plain": [
       "<PIL.Image.Image image mode=RGB size=64x64 at 0x7F0C63FA7D68>"
      ]
     },
     "metadata": {},
     "output_type": "display_data"
    },
    {
     "name": "stdout",
     "output_type": "stream",
     "text": [
      "---\n"
     ]
    },
    {
     "ename": "KeyboardInterrupt",
     "evalue": "",
     "output_type": "error",
     "traceback": [
      "\u001b[0;31m---------------------------------------------------------------------------\u001b[0m",
      "\u001b[0;31mKeyboardInterrupt\u001b[0m                         Traceback (most recent call last)",
      "\u001b[0;32m<ipython-input-9-f75828bda491>\u001b[0m in \u001b[0;36m<module>\u001b[0;34m\u001b[0m\n\u001b[1;32m     47\u001b[0m         \u001b[0mcritic_optimizer\u001b[0m\u001b[0;34m.\u001b[0m\u001b[0mstep\u001b[0m\u001b[0;34m(\u001b[0m\u001b[0;34m)\u001b[0m\u001b[0;34m\u001b[0m\u001b[0;34m\u001b[0m\u001b[0m\n\u001b[1;32m     48\u001b[0m \u001b[0;34m\u001b[0m\u001b[0m\n\u001b[0;32m---> 49\u001b[0;31m         \u001b[0mcritic_losses\u001b[0m\u001b[0;34m.\u001b[0m\u001b[0mappend\u001b[0m\u001b[0;34m(\u001b[0m\u001b[0mcritic_training_loss\u001b[0m\u001b[0;34m.\u001b[0m\u001b[0mdata\u001b[0m\u001b[0;34m.\u001b[0m\u001b[0mitem\u001b[0m\u001b[0;34m(\u001b[0m\u001b[0;34m)\u001b[0m\u001b[0;34m)\u001b[0m\u001b[0;34m\u001b[0m\u001b[0;34m\u001b[0m\u001b[0m\n\u001b[0m\u001b[1;32m     50\u001b[0m \u001b[0;34m\u001b[0m\u001b[0m\n\u001b[1;32m     51\u001b[0m         \u001b[0;31m# then train generator\u001b[0m\u001b[0;34m\u001b[0m\u001b[0;34m\u001b[0m\u001b[0;34m\u001b[0m\u001b[0m\n",
      "\u001b[0;31mKeyboardInterrupt\u001b[0m: "
     ]
    }
   ],
   "source": [
    "# training\n",
    "train_epoch = 100\n",
    "\n",
    "device = torch.device(\"cuda\" if torch.cuda.is_available() else \"cpu\")\n",
    "print(f'Device : {device}')\n",
    "\n",
    "print('Starting Adversarial Generator Training')\n",
    "\n",
    "# move generator to device\n",
    "generator.to(device)\n",
    "\n",
    "# move critic to device\n",
    "critic.to(device)\n",
    "\n",
    "critic_losses = []\n",
    "generator_losses = []\n",
    "\n",
    "for epoch in range(train_epoch):\n",
    "    \n",
    "    for num_iter, (stroke, action) in enumerate(dataloader):\n",
    "        action = action.to(device)\n",
    "        stroke = torch.stack([strokes_tfms(s) for s in stroke]).to(device)\n",
    "        \n",
    "        batch_size = stroke.shape[0]\n",
    "        \n",
    "        # create ground truth matrices\n",
    "        true_matrix = torch.ones((batch_size,1), dtype=torch.float, requires_grad = False).to(device)\n",
    "        false_matrix = torch.zeros((batch_size, 1), dtype=torch.float, requires_grad = False).to(device)\n",
    "        \n",
    "        # train critic first\n",
    "        critic_optimizer.zero_grad()\n",
    "        \n",
    "        # compute true loss\n",
    "        critic_true_predictions = torch.sigmoid(critic(stroke))\n",
    "        critic_true_loss = critic_loss(critic_true_predictions, true_matrix)\n",
    "        \n",
    "        # compute generated loss\n",
    "        generated_stroke = generator(action)\n",
    "        critic_false_predictions = torch.sigmoid(critic(generated_stroke))\n",
    "        critic_false_loss = critic_loss(critic_false_predictions, false_matrix)\n",
    "        \n",
    "        # average out losses \n",
    "        critic_training_loss = (critic_true_loss + critic_false_loss) / 2\n",
    "        \n",
    "        # step\n",
    "        critic_training_loss.backward()\n",
    "        critic_optimizer.step()\n",
    "        \n",
    "        critic_losses.append(critic_training_loss.data.item())\n",
    "        \n",
    "        # then train generator\n",
    "        \n",
    "        generator_optimizer.zero_grad()\n",
    "        \n",
    "        \n",
    "        # get generated stroke & critic prediction\n",
    "        generated_stroke = generator(action)\n",
    "        critic_predictions = torch.sigmoid(critic(generated_stroke))\n",
    "        \n",
    "        # compute generator loss\n",
    "        generator_training_loss = (critic_loss(critic_predictions, true_matrix) + base_loss(generated_stroke, stroke)) / 2\n",
    "        \n",
    "        # step\n",
    "        generator_training_loss.backward()\n",
    "        generator_optimizer.step()\n",
    "        \n",
    "        generator_losses.append(generator_training_loss.data.item())\n",
    "        \n",
    "        \n",
    "        # print training info & display some examples\n",
    "        if (num_iter % 50) == 0:\n",
    "            print(f'epoch {epoch+1}/{train_epoch} | {num_iter+1}/{len(dataloader)} complete!')\n",
    "                  \n",
    "            print(f'critic loss: {torch.mean(torch.FloatTensor(critic_losses)).item()}')\n",
    "            print(f'generator loss: {torch.mean(torch.FloatTensor(generator_losses)).item()}')\n",
    "            # ---\n",
    "            s = stroke[0].clone().cpu()\n",
    "            print('true')\n",
    "            print('critic pred:', critic_true_predictions[0].item(), 'real (true=1)')\n",
    "            display(VF.to_pil_image(s))\n",
    "            print('---')\n",
    "            g = generated_stroke[0].clone().cpu()\n",
    "            print('generated')\n",
    "            print('critic pred:', critic_predictions[0].item(), 'generated (true=0)')\n",
    "            display(VF.to_pil_image(g))\n",
    "            print('---')\n",
    "\n",
    "print('Saving Generator & Critic')\n",
    "\n",
    "model_info_path = root + 'brushstroke_gan_final_' + 'adversarial_' + 'generator_info.pth'\n",
    "with open(model_info_path, 'wb') as f:\n",
    "    model_info = {\n",
    "    'condition_dim': condition_dim,\n",
    "    'fc_dim': fc_dim,\n",
    "    'image_size': image_size,\n",
    "    'channels': channels,\n",
    "    'n_extra_layers': n_extra_layers,\n",
    "    }\n",
    "    torch.save(model_info, f)\n",
    "# optional save models\n",
    "# torch.save(critic.state_dict(), root + critic_model)      \n",
    "# torch.save(generator.state_dict(), root + gen_model)      \n",
    "# print('done')"
   ]
  },
  {
   "cell_type": "code",
   "execution_count": null,
   "metadata": {},
   "outputs": [],
   "source": [
    "# check if models saved properly\n",
    "!ls adversarial_models"
   ]
  },
  {
   "cell_type": "code",
   "execution_count": null,
   "metadata": {},
   "outputs": [],
   "source": []
  }
 ],
 "metadata": {
  "kernelspec": {
   "display_name": "Python 3",
   "language": "python",
   "name": "python3"
  },
  "language_info": {
   "codemirror_mode": {
    "name": "ipython",
    "version": 3
   },
   "file_extension": ".py",
   "mimetype": "text/x-python",
   "name": "python",
   "nbconvert_exporter": "python",
   "pygments_lexer": "ipython3",
   "version": "3.7.3"
  }
 },
 "nbformat": 4,
 "nbformat_minor": 2
}
