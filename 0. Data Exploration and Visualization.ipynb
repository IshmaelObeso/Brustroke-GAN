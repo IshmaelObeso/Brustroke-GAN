{
 "cells": [
  {
   "cell_type": "markdown",
   "metadata": {},
   "source": [
    "This Notebook Explores the Two Datasets used in this Project. The Brushstroke Dataset & the Training Image Dataset"
   ]
  },
  {
   "cell_type": "code",
   "execution_count": 42,
   "metadata": {},
   "outputs": [],
   "source": [
    "import numpy as np\n",
    "import matplotlib.pyplot as plt\n",
    "\n",
    "import torch\n",
    "import torchvision\n",
    "from torchvision import models, transforms\n",
    "from torch.utils.data import TensorDataset, DataLoader, RandomSampler"
   ]
  },
  {
   "cell_type": "code",
   "execution_count": 3,
   "metadata": {},
   "outputs": [
    {
     "name": "stdout",
     "output_type": "stream",
     "text": [
      "Looking in indexes: https://pypi.org/simple, https://packagecloud.io/github/git-lfs/pypi/simple\n",
      "Requirement already satisfied: gdown in /home/snowballfight/anaconda3/envs/pytorchenv/lib/python3.7/site-packages (3.8.3)\n",
      "Requirement already satisfied: requests in /home/snowballfight/anaconda3/envs/pytorchenv/lib/python3.7/site-packages (from gdown) (2.22.0)\n",
      "Requirement already satisfied: filelock in /home/snowballfight/anaconda3/envs/pytorchenv/lib/python3.7/site-packages (from gdown) (3.0.12)\n",
      "Requirement already satisfied: tqdm in /home/snowballfight/anaconda3/envs/pytorchenv/lib/python3.7/site-packages (from gdown) (4.39.0)\n",
      "Requirement already satisfied: six in /home/snowballfight/anaconda3/envs/pytorchenv/lib/python3.7/site-packages (from gdown) (1.12.0)\n",
      "Requirement already satisfied: certifi>=2017.4.17 in /home/snowballfight/anaconda3/envs/pytorchenv/lib/python3.7/site-packages (from requests->gdown) (2019.11.28)\n",
      "Requirement already satisfied: urllib3!=1.25.0,!=1.25.1,<1.26,>=1.21.1 in /home/snowballfight/anaconda3/envs/pytorchenv/lib/python3.7/site-packages (from requests->gdown) (1.25.7)\n",
      "Requirement already satisfied: idna<2.9,>=2.5 in /home/snowballfight/anaconda3/envs/pytorchenv/lib/python3.7/site-packages (from requests->gdown) (2.8)\n",
      "Requirement already satisfied: chardet<3.1.0,>=3.0.2 in /home/snowballfight/anaconda3/envs/pytorchenv/lib/python3.7/site-packages (from requests->gdown) (3.0.4)\n",
      "mkdir: cannot create directory ‘brushstroke_data’: File exists\n",
      "Downloading...\n",
      "From: https://drive.google.com/uc?id=1Fl9K6XbDr_5lOb0J-lzjPX9SoJ9M7j1x\n",
      "To: /home/snowballfight/PycharmProjects/Brushstroke_GAN_Flask_Project/brushstroke_data/episodes_42.npz\n",
      "71.1MB [02:09, 503kB/s] ^C\n",
      "Traceback (most recent call last):\n",
      "  File \"/home/snowballfight/anaconda3/envs/pytorchenv/bin/gdown\", line 10, in <module>\n",
      "    sys.exit(main())\n",
      "  File \"/home/snowballfight/anaconda3/envs/pytorchenv/lib/python3.7/site-packages/gdown/cli.py\", line 66, in main\n",
      "    download(url=url, output=args.output, quiet=args.quiet)\n",
      "  File \"/home/snowballfight/anaconda3/envs/pytorchenv/lib/python3.7/site-packages/gdown/download.py\", line 106, in download\n",
      "    for chunk in res.iter_content(chunk_size=CHUNK_SIZE):\n",
      "  File \"/home/snowballfight/anaconda3/envs/pytorchenv/lib/python3.7/site-packages/requests/models.py\", line 750, in generate\n",
      "    for chunk in self.raw.stream(chunk_size, decode_content=True):\n",
      "  File \"/home/snowballfight/anaconda3/envs/pytorchenv/lib/python3.7/site-packages/urllib3/response.py\", line 490, in stream\n",
      "    for line in self.read_chunked(amt, decode_content=decode_content):\n",
      "  File \"/home/snowballfight/anaconda3/envs/pytorchenv/lib/python3.7/site-packages/urllib3/response.py\", line 669, in read_chunked\n",
      "    chunk = self._handle_chunk(amt)\n",
      "  File \"/home/snowballfight/anaconda3/envs/pytorchenv/lib/python3.7/site-packages/urllib3/response.py\", line 615, in _handle_chunk\n",
      "    value = self._fp._safe_read(amt)\n",
      "  File \"/home/snowballfight/anaconda3/envs/pytorchenv/lib/python3.7/http/client.py\", line 610, in _safe_read\n",
      "    chunk = self.fp.read(min(amt, MAXAMOUNT))\n",
      "  File \"/home/snowballfight/anaconda3/envs/pytorchenv/lib/python3.7/socket.py\", line 589, in readinto\n",
      "    return self._sock.recv_into(b)\n",
      "  File \"/home/snowballfight/anaconda3/envs/pytorchenv/lib/python3.7/site-packages/urllib3/contrib/pyopenssl.py\", line 297, in recv_into\n",
      "    return self.connection.recv_into(*args, **kwargs)\n",
      "  File \"/home/snowballfight/anaconda3/envs/pytorchenv/lib/python3.7/site-packages/OpenSSL/SSL.py\", line 1839, in recv_into\n",
      "    result = _lib.SSL_read(self._ssl, buf, nbytes)\n",
      "KeyboardInterrupt\n",
      "71.1MB [02:11, 543kB/s]\n"
     ]
    }
   ],
   "source": [
    "# download dataset from google drive\n",
    "\n",
    "# install gdown if not installed\n",
    "!pip install gdown\n",
    "\n",
    "# create a data folder, download data into it\n",
    "!mkdir brushstroke_data; cd brushstroke_data; gdown https://drive.google.com/uc?id=1Fl9K6XbDr_5lOb0J-lzjPX9SoJ9M7j1x"
   ]
  },
  {
   "cell_type": "code",
   "execution_count": 8,
   "metadata": {},
   "outputs": [],
   "source": [
    "#load brushstroke data into memory\n",
    "data = np.load('brushstroke_data/' + 'episodes_42.npz')\n",
    "stroke_data = data['strokes']\n",
    "action_data = data['actions']"
   ]
  },
  {
   "cell_type": "code",
   "execution_count": 15,
   "metadata": {},
   "outputs": [
    {
     "name": "stdout",
     "output_type": "stream",
     "text": [
      "The dataset contains: 100000 examples of brushstroke actions\n",
      "Each example contains: 12 parameters for a single brushstroke\n",
      "Example of a single actions parameters: [0.33052152 0.24929554 0.63813394 0.6562682  0.53990434 0.43563418\n",
      " 0.62354892 0.49426813 0.38073039 0.89612729 0.92475446 0.46671069]\n"
     ]
    }
   ],
   "source": [
    "# explore action data\n",
    "print(f'The dataset contains: {action_data.shape[0]} examples of brushstroke actions')\n",
    "print(f'Each example contains: {action_data.shape[1]} parameters for a single brushstroke')\n",
    "print(f'Example of a single actions parameters: {action_data[0]}')\n",
    "\n",
    "# each action vector contains 12 parameters for a single brushstroke\n",
    "# these parameters consist of - Start and End Pressure (param 1,2)\n",
    "#                             - Brush Size Radius (param 3)\n",
    "#                             - RGB Color (param 4,5,6)\n",
    "#                             - Brush Coordinates, Start, End, Intermediate (param (7,8),(9,10),(11,12))"
   ]
  },
  {
   "cell_type": "code",
   "execution_count": 21,
   "metadata": {},
   "outputs": [
    {
     "name": "stdout",
     "output_type": "stream",
     "text": [
      "This dataset contains 100000 strokes\n",
      "Each stroke contains 64 by 64 pixels and 3 color channels\n"
     ]
    },
    {
     "data": {
      "text/plain": [
       "<function matplotlib.pyplot.show(*args, **kw)>"
      ]
     },
     "execution_count": 21,
     "metadata": {},
     "output_type": "execute_result"
    },
    {
     "data": {
      "image/png": "[encoded data removed]",
      "text/plain": [
       "<Figure size 432x288 with 1 Axes>"
      ]
     },
     "metadata": {
      "needs_background": "light"
     },
     "output_type": "display_data"
    }
   ],
   "source": [
    "# visualize stroke data\n",
    "# total number of strokes in dataset\n",
    "print(f'This dataset contains {stroke_data.shape[0]} strokes')\n",
    "print(f'Each stroke contains {stroke_data.shape[1]} by {stroke_data.shape[2]} pixels and {stroke_data.shape[3]} color channels')\n",
    "\n",
    "# visualizing a stroke in dataset\n",
    "example_stroke = stroke_data[5][:,:]\n",
    "plt.grid(False)\n",
    "plt.imshow(example_stroke, cmap='Greys')\n",
    "plt.show"
   ]
  },
  {
   "cell_type": "code",
   "execution_count": 35,
   "metadata": {},
   "outputs": [
    {
     "data": {
      "image/png": "[encoded data removed]",
      "text/plain": [
       "<Figure size 2160x720 with 10 Axes>"
      ]
     },
     "metadata": {
      "needs_background": "light"
     },
     "output_type": "display_data"
    }
   ],
   "source": [
    "# visualizing multiple strokes in dataset\n",
    "num_strokes = 10\n",
    "random_sample = np.random.choice(stroke_data.shape[0], num_strokes)\n",
    "stroke_subset = []\n",
    "\n",
    "# take a random sample of num_strokes strokes\n",
    "for i in random_sample:\n",
    "    stroke_subset.append(stroke_data[i])\n",
    "\n",
    "# plot the brushstrokes\n",
    "fig = plt.figure(figsize=(30, 10))\n",
    "\n",
    "i=0\n",
    "for stroke in stroke_subset:\n",
    "    i += 1\n",
    "    fig.add_subplot(1, 20, i+1)\n",
    "    plt.grid(False)\n",
    "    plt.imshow(stroke)\n",
    "    \n",
    "plt.show()    "
   ]
  },
  {
   "cell_type": "code",
   "execution_count": 43,
   "metadata": {},
   "outputs": [],
   "source": [
    "# explore Image Dataset\n",
    "\n",
    "# batch size\n",
    "batch_size = 1\n",
    "root = 'painting_data'\n",
    "\n",
    "# transform\n",
    "transform = transforms.Compose([\n",
    "        transforms.Resize(64),\n",
    "        transforms.CenterCrop(64),\n",
    "        transforms.ToTensor(),\n",
    "        ])\n",
    "\n",
    "# create dataset from images in ImageFolder\n",
    "data = torchvision.datasets.ImageFolder(root=root, transform=transform)\n",
    "\n",
    "#create sampler\n",
    "sampler = RandomSampler(data, replacement=True, num_samples=100)\n",
    "\n",
    "# create dataloader for data\n",
    "dataloader = torch.utils.data.DataLoader(data, batch_size = batch_size, sampler=sampler)"
   ]
  },
  {
   "cell_type": "code",
   "execution_count": 50,
   "metadata": {},
   "outputs": [
    {
     "name": "stdout",
     "output_type": "stream",
     "text": [
      "There are 8683 images in this dataset\n",
      "We have taken a sample of 100 images from this dataset\n"
     ]
    }
   ],
   "source": [
    "# print out info on data and dataloader\n",
    "print(f'There are {len(data)} images in this dataset')\n",
    "print(f'We have taken a sample of {len(dataloader)} images from this dataset')"
   ]
  },
  {
   "cell_type": "code",
   "execution_count": 51,
   "metadata": {},
   "outputs": [
    {
     "name": "stdout",
     "output_type": "stream",
     "text": [
      "torch.Size([1, 3, 64, 64])\n"
     ]
    },
    {
     "data": {
      "image/png": "[encoded data removed]",
      "text/plain": [
       "<Figure size 576x576 with 1 Axes>"
      ]
     },
     "metadata": {},
     "output_type": "display_data"
    }
   ],
   "source": [
    "# visualizing single image from dataset\n",
    "\n",
    "def imshow(imgs):\n",
    "    imgs = torchvision.utils.make_grid(imgs)\n",
    "    npimgs = imgs.numpy()\n",
    "    plt.figure(figsize=(8,8))\n",
    "    plt.imshow(np.transpose(npimgs, (1,2,0)), cmap='Greys_r')\n",
    "    plt.xticks([])\n",
    "    plt.yticks([])\n",
    "    plt.show\n",
    "    \n",
    "dataIter = iter(dataloader)\n",
    "\n",
    "imgs, labels = dataIter.next()\n",
    "\n",
    "imshow(imgs)\n",
    "\n",
    "print(imgs.shape)\n"
   ]
  },
  {
   "cell_type": "code",
   "execution_count": null,
   "metadata": {},
   "outputs": [],
   "source": []
  }
 ],
 "metadata": {
  "kernelspec": {
   "display_name": "Python 3",
   "language": "python",
   "name": "python3"
  },
  "language_info": {
   "codemirror_mode": {
    "name": "ipython",
    "version": 3
   },
   "file_extension": ".py",
   "mimetype": "text/x-python",
   "name": "python",
   "nbconvert_exporter": "python",
   "pygments_lexer": "ipython3",
   "version": "3.7.3"
  }
 },
 "nbformat": 4,
 "nbformat_minor": 2
}
